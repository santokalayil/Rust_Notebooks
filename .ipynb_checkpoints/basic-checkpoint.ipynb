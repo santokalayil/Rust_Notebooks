{
 "cells": [
  {
   "cell_type": "code",
   "execution_count": 2,
   "id": "necessary-madonna",
   "metadata": {},
   "outputs": [],
   "source": [
    "let x = \"learning rust\";"
   ]
  },
  {
   "cell_type": "code",
   "execution_count": 5,
   "id": "later-brother",
   "metadata": {},
   "outputs": [],
   "source": [
    "let y = 6;\n",
    "let z = 3.14;"
   ]
  },
  {
   "cell_type": "code",
   "execution_count": 8,
   "id": "interested-concert",
   "metadata": {},
   "outputs": [
    {
     "name": "stdout",
     "output_type": "stream",
     "text": [
      "learning rust\n",
      "6\n",
      "3.14\n"
     ]
    }
   ],
   "source": [
    "println!(\"{}\", x);\n",
    "println!(\"{}\", y);\n",
    "// print_type_of(&y);\n",
    "println!(\"{}\", z);\n",
    "// print_type_of(&z);"
   ]
  },
  {
   "cell_type": "markdown",
   "id": "excited-virgin",
   "metadata": {},
   "source": [
    "# Mutation and Shadowing"
   ]
  },
  {
   "cell_type": "code",
   "execution_count": 10,
   "id": "given-palestinian",
   "metadata": {},
   "outputs": [
    {
     "name": "stdout",
     "output_type": "stream",
     "text": [
      "current value fo x: 32\n"
     ]
    }
   ],
   "source": [
    "let mut x = 32;\n",
    "println!(\"current value fo x: {}\", x);"
   ]
  },
  {
   "cell_type": "code",
   "execution_count": 11,
   "id": "pointed-copyright",
   "metadata": {},
   "outputs": [
    {
     "data": {
      "text/plain": [
       "64"
      ]
     },
     "execution_count": 11,
     "metadata": {},
     "output_type": "execute_result"
    }
   ],
   "source": [
    "x = 64;\n",
    "x"
   ]
  },
  {
   "cell_type": "code",
   "execution_count": 12,
   "id": "contrary-infection",
   "metadata": {},
   "outputs": [],
   "source": [
    "// mutating the type of the variable is not allowed though"
   ]
  },
  {
   "cell_type": "code",
   "execution_count": 14,
   "id": "bibliographic-nicholas",
   "metadata": {},
   "outputs": [
    {
     "name": "stdout",
     "output_type": "stream",
     "text": [
      "value of x: 6\n"
     ]
    },
    {
     "data": {
      "text/plain": [
       "()"
      ]
     },
     "execution_count": 14,
     "metadata": {},
     "output_type": "execute_result"
    }
   ],
   "source": [
    "fn main() {\n",
    "    let x = 1;\n",
    "    let x = x + 2;\n",
    "    let x = x *2;\n",
    "    println!(\"value of x: {}\", x);\n",
    "}\n",
    "main()"
   ]
  },
  {
   "cell_type": "code",
   "execution_count": 15,
   "id": "sustained-element",
   "metadata": {},
   "outputs": [
    {
     "data": {
      "text/plain": [
       "64"
      ]
     },
     "execution_count": 15,
     "metadata": {},
     "output_type": "execute_result"
    }
   ],
   "source": [
    "x // see there value is external scope"
   ]
  },
  {
   "cell_type": "markdown",
   "id": "hawaiian-region",
   "metadata": {},
   "source": [
    "# functions"
   ]
  },
  {
   "cell_type": "code",
   "execution_count": 20,
   "id": "recovered-charge",
   "metadata": {},
   "outputs": [
    {
     "name": "stdout",
     "output_type": "stream",
     "text": [
      "value of x: SANTO\n"
     ]
    },
    {
     "data": {
      "text/plain": [
       "()"
      ]
     },
     "execution_count": 20,
     "metadata": {},
     "output_type": "execute_result"
    }
   ],
   "source": [
    "fn printthis() {\n",
    "    let x = \"SANTO\";\n",
    "    println!(\"value of x: {}\", x);\n",
    "}\n",
    "printthis()"
   ]
  },
  {
   "cell_type": "code",
   "execution_count": 16,
   "id": "rough-tokyo",
   "metadata": {},
   "outputs": [],
   "source": [
    "fn square_of(x: i32) -> i32 {\n",
    "    println!(\"x = {}\", x);\n",
    "    x.pow(2)\n",
    "}"
   ]
  },
  {
   "cell_type": "code",
   "execution_count": 17,
   "id": "powerful-madison",
   "metadata": {},
   "outputs": [
    {
     "name": "stdout",
     "output_type": "stream",
     "text": [
      "x = 4\n"
     ]
    },
    {
     "data": {
      "text/plain": [
       "16"
      ]
     },
     "execution_count": 17,
     "metadata": {},
     "output_type": "execute_result"
    }
   ],
   "source": [
    "square_of(4)"
   ]
  },
  {
   "cell_type": "markdown",
   "id": "suburban-fiction",
   "metadata": {},
   "source": [
    "# conditions"
   ]
  },
  {
   "cell_type": "markdown",
   "id": "answering-chuck",
   "metadata": {},
   "source": [
    "### Two ways of conditional checking\n",
    "1. Normal if blocks\n",
    "2. Pattern matching"
   ]
  },
  {
   "cell_type": "code",
   "execution_count": 22,
   "id": "continuing-ratio",
   "metadata": {},
   "outputs": [
    {
     "data": {
      "text/plain": [
       "\"cold\""
      ]
     },
     "execution_count": 22,
     "metadata": {},
     "output_type": "execute_result"
    }
   ],
   "source": [
    "// if condition\n",
    "let place = \"himalayas\";\n",
    "let weather = if place == \"himalayas\" { \"cold\" } else { \"hot\" };\n",
    "weather"
   ]
  },
  {
   "cell_type": "code",
   "execution_count": 23,
   "id": "weird-stocks",
   "metadata": {},
   "outputs": [
    {
     "data": {
      "text/plain": [
       "\"cold\""
      ]
     },
     "execution_count": 23,
     "metadata": {},
     "output_type": "execute_result"
    }
   ],
   "source": [
    "// pattern matching\n",
    "let place = \"himalayas\";\n",
    "let weather = match place { \"himalayas\" => \"cold\", _ => \"hot\"};\n",
    "weather"
   ]
  },
  {
   "cell_type": "markdown",
   "id": "different-friendly",
   "metadata": {},
   "source": [
    "# References and Borrowing"
   ]
  },
  {
   "cell_type": "code",
   "execution_count": null,
   "id": "corrected-auditor",
   "metadata": {},
   "outputs": [],
   "source": []
  },
  {
   "cell_type": "code",
   "execution_count": 37,
   "id": "light-outside",
   "metadata": {},
   "outputs": [
    {
     "name": "stdout",
     "output_type": "stream",
     "text": [
      "\"rust 2020\"\n"
     ]
    }
   ],
   "source": [
    "fn hi() {\n",
    "    let lang = \"rust\";\n",
    "    let rust1 = add_version(&lang);\n",
    "    println!(\"{:?}\", rust1)\n",
    "}\n",
    "\n",
    "fn add_version(s: &str) -> String { s.to_string() + \" 2020\"}\n",
    "\n",
    "hi();"
   ]
  },
  {
   "cell_type": "code",
   "execution_count": 53,
   "id": "aerial-juice",
   "metadata": {},
   "outputs": [
    {
     "ename": "Error",
     "evalue": "mismatched types",
     "output_type": "error",
     "traceback": [
      "    let rust1 = add_version(&lang);",
      "\u001b[91m                            ^^^^^\u001b[0m \u001b[94mexpected struct `std::string::String`, found `&std::string::String`\u001b[0m",
      "mismatched types",
      "\u001b[1mhelp\u001b[0m: consider removing the borrow\n\nlang"
     ]
    },
    {
     "ename": "Error",
     "evalue": "mismatched types",
     "output_type": "error",
     "traceback": [
      "expected struct `std::string::String`, found `&&str`",
      "mismatched types",
      "\u001b[1mhelp\u001b[0m: try using a conversion method\n\n(&lang).to_string()"
     ]
    }
   ],
   "source": [
    "fn main() {\n",
    "    let lang = String::from(\"rust\");\n",
    "    let rust1 = add_version(&lang);\n",
    "    println!(\"{:?}\", rust1);\n",
    "    \n",
    "//     let rust2 = add_lang(lang); //\n",
    "//     println!(\"{:?}\", rust2);\n",
    "    \n",
    "}\n",
    "\n",
    "fn add_version(s: String) -> String {s + \" 2020\"}\n",
    "\n",
    "// fn add_lang(s: String) -> String {s + \" lang\"}\n",
    "\n",
    "main()"
   ]
  },
  {
   "cell_type": "markdown",
   "id": "improved-cornell",
   "metadata": {},
   "source": [
    "# mutable references"
   ]
  },
  {
   "cell_type": "code",
   "execution_count": 63,
   "id": "solved-recommendation",
   "metadata": {},
   "outputs": [
    {
     "ename": "Error",
     "evalue": "mismatched types",
     "output_type": "error",
     "traceback": [
      "types differ in mutability",
      "mismatched types"
     ]
    },
    {
     "ename": "Error",
     "evalue": "mismatched types",
     "output_type": "error",
     "traceback": [
      "types differ in mutability",
      "mismatched types"
     ]
    }
   ],
   "source": [
    "fn add_version(s: &mut String) -> String { s.push_str(\" Lang.\"); s.to_string()}\n",
    "let mut mystring = \"anto\".to_string();\n",
    "add_version(&mut mystring)"
   ]
  },
  {
   "cell_type": "markdown",
   "id": "balanced-comedy",
   "metadata": {},
   "source": [
    "# OBJECT ORIENTED PROGRAMMING"
   ]
  },
  {
   "cell_type": "markdown",
   "id": "labeled-parts",
   "metadata": {},
   "source": [
    "## 1. Structures"
   ]
  },
  {
   "cell_type": "code",
   "execution_count": 64,
   "id": "perfect-terrain",
   "metadata": {},
   "outputs": [],
   "source": [
    "// structures are essentially names tuples, and they can be utilized to store organized nformation. They can also be\n",
    "// considered as attributes of an instance. "
   ]
  },
  {
   "cell_type": "code",
   "execution_count": 72,
   "id": "willing-black",
   "metadata": {},
   "outputs": [
    {
     "name": "stdout",
     "output_type": "stream",
     "text": [
      "This planet has 0.04 of CO2 and 78.09 of Nitrogen\n"
     ]
    }
   ],
   "source": [
    "struct Planet { co2: f32, nitrogen: f32}\n",
    "\n",
    "let earth = Planet {co2: 0.04, nitrogen: 78.09};\n",
    "println!(\"This planet has {} of CO2 and {} of Nitrogen\", earth.co2, earth.nitrogen);"
   ]
  },
  {
   "cell_type": "code",
   "execution_count": null,
   "id": "technical-cisco",
   "metadata": {},
   "outputs": [],
   "source": [
    "// also in above section we cannot print class instance as such because for that we need to add the Debug trait"
   ]
  },
  {
   "cell_type": "code",
   "execution_count": 75,
   "id": "starting-frank",
   "metadata": {},
   "outputs": [
    {
     "name": "stdout",
     "output_type": "stream",
     "text": [
      "Planet { co2: 0.04, nitrogen: 78.09 } has 0.04 of CO2 and 78.09 of Nitrogen\n"
     ]
    }
   ],
   "source": [
    "#[derive(Debug)] // used to print class instance also while printing need {:?} for formating not just {}\n",
    "struct Planet { co2: f32, nitrogen: f32}\n",
    "\n",
    "let earth = Planet {co2: 0.04, nitrogen: 78.09};\n",
    "println!(\"{:?} has {} of CO2 and {} of Nitrogen\", earth, earth.co2, earth.nitrogen);"
   ]
  },
  {
   "cell_type": "markdown",
   "id": "hawaiian-burns",
   "metadata": {},
   "source": [
    "## 2. Traits"
   ]
  },
  {
   "cell_type": "code",
   "execution_count": 76,
   "id": "smoking-begin",
   "metadata": {},
   "outputs": [],
   "source": [
    "// a trait can be implemented for multiples types and  new functionality can be implemented for old types using traits."
   ]
  },
  {
   "cell_type": "code",
   "execution_count": 77,
   "id": "increased-conviction",
   "metadata": {},
   "outputs": [],
   "source": [
    "// here co2 and nitrogen are members fo the trait, whereas summarize is a method\n",
    "trait Atmosphere {\n",
    "    fn new(co2: f32, nitrogen:f32) -> Self;\n",
    "    fn amount_of_other_gases(&self) -> f32;\n",
    "    fn summarize(&self);\n",
    "}"
   ]
  },
  {
   "cell_type": "markdown",
   "id": "answering-jordan",
   "metadata": {},
   "source": [
    "## 3. Methods and impl"
   ]
  },
  {
   "cell_type": "code",
   "execution_count": 82,
   "id": "painful-warning",
   "metadata": {},
   "outputs": [
    {
     "name": "stdout",
     "output_type": "stream",
     "text": [
      "For planet Planet { co2: 0.04, nitrogen: 78.09 } =====> co2 = 0.04, nitrogen = 78.09, other_gases=21.870003\n",
      "For planet Planet { co2: 95.32, nitrogen: 2.7 } =====> co2 = 95.32, nitrogen = 2.7, other_gases=1.9800003\n"
     ]
    }
   ],
   "source": [
    "#[derive(Debug)]\n",
    "struct Planet { co2: f32, nitrogen: f32}\n",
    "\n",
    "trait Atmosphere {\n",
    "    fn new(co2: f32, nitrogen:f32) -> Self;\n",
    "    fn amount_of_other_gases(&self) -> f32;\n",
    "    fn summarize(&self);\n",
    "}\n",
    "\n",
    "impl Atmosphere for Planet {\n",
    "    fn new(co2: f32, nitrogen: f32) -> Planet {\n",
    "        Planet { co2: co2, nitrogen: nitrogen}\n",
    "    }\n",
    "    fn amount_of_other_gases(&self) -> f32 {\n",
    "        100.0 - self.co2 - self.nitrogen\n",
    "    }\n",
    "    fn summarize(&self) {\n",
    "        let other_gases = self.amount_of_other_gases();\n",
    "        println!(\n",
    "            \"For planet {planet:?} =====> co2 = {co2}, nitrogen = {nitrogen}, other_gases={other_gases}\",\n",
    "            planet=self, co2=self.co2, nitrogen=self.nitrogen, other_gases=other_gases\n",
    "        );\n",
    "    }\n",
    "}\n",
    "\n",
    "let earth = Planet {co2: 0.04, nitrogen: 78.09};\n",
    "let mars = Planet {co2: 95.32, nitrogen: 2.7};\n",
    "\n",
    "earth.summarize();\n",
    "mars.summarize();"
   ]
  },
  {
   "cell_type": "markdown",
   "id": "applied-chicago",
   "metadata": {},
   "source": [
    "## 4. Enumerations"
   ]
  },
  {
   "cell_type": "code",
   "execution_count": 83,
   "id": "assisted-deadline",
   "metadata": {},
   "outputs": [],
   "source": [
    "// enumerations are an interesting way to create a type that will hold one of the values of the few different varients\n",
    "// eg: IP addresses can have one of the types of IP addresses but no both.\n",
    "// eg: A book can be hardbound or paperback but not both and so on\n",
    "// in such cases, we can define the types as enums."
   ]
  },
  {
   "cell_type": "code",
   "execution_count": 87,
   "id": "nearby-composite",
   "metadata": {},
   "outputs": [
    {
     "name": "stdout",
     "output_type": "stream",
     "text": [
      "#00ff00\n"
     ]
    }
   ],
   "source": [
    "// #[derive(Debug)]\n",
    "enum Colors {\n",
    "    Red,\n",
    "    Green,\n",
    "    Blue,\n",
    "}\n",
    "\n",
    "fn get_hex(color: Colors) -> String {\n",
    "    match color {\n",
    "        Colors::Red => String::from(\"#ff0000\"),\n",
    "        Colors::Green => String::from(\"#00ff00\"),\n",
    "        Colors::Blue => String::from(\"#0000ff\"),\n",
    "    }\n",
    "}\n",
    "\n",
    "let color_name = Colors::Green;\n",
    "let hex_value = get_hex(color_name);\n",
    "println!(\"{}\", hex_value);"
   ]
  },
  {
   "cell_type": "markdown",
   "id": "digital-reputation",
   "metadata": {},
   "source": [
    "# Writing Tests"
   ]
  },
  {
   "cell_type": "code",
   "execution_count": 91,
   "id": "approved-police",
   "metadata": {},
   "outputs": [
    {
     "data": {
      "text/plain": [
       "\"Mr. John MA, BTh\""
      ]
     },
     "execution_count": 91,
     "metadata": {},
     "output_type": "execute_result"
    }
   ],
   "source": [
    "fn add_education(s: &str) -> String {s.to_string() + \" MA, BTh\"}\n",
    "add_education(\"Mr. John\")"
   ]
  },
  {
   "cell_type": "code",
   "execution_count": 92,
   "id": "neural-player",
   "metadata": {},
   "outputs": [],
   "source": [
    "// let us test this function\n",
    "#[test]\n",
    "fn test_add_education() {\n",
    "    assert_eq!(add_education(\"T M Mathew\"), String::from(\"T M Mathew MA, BTh\"));\n",
    "}"
   ]
  },
  {
   "cell_type": "code",
   "execution_count": null,
   "id": "organic-miniature",
   "metadata": {},
   "outputs": [],
   "source": [
    "// use cargo test"
   ]
  },
  {
   "cell_type": "code",
   "execution_count": null,
   "id": "straight-emperor",
   "metadata": {},
   "outputs": [],
   "source": []
  }
 ],
 "metadata": {
  "kernelspec": {
   "display_name": "Rust",
   "language": "rust",
   "name": "rust"
  },
  "language_info": {
   "codemirror_mode": "rust",
   "file_extension": ".rs",
   "mimetype": "text/rust",
   "name": "Rust",
   "pygment_lexer": "rust",
   "version": ""
  }
 },
 "nbformat": 4,
 "nbformat_minor": 5
}
