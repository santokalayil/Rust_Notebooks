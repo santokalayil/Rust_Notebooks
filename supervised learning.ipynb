{
 "cells": [
  {
   "cell_type": "markdown",
   "id": "adapted-eight",
   "metadata": {},
   "source": [
    "# <center> Supervised Learning </center>"
   ]
  },
  {
   "cell_type": "code",
   "execution_count": null,
   "id": "retired-commercial",
   "metadata": {},
   "outputs": [],
   "source": []
  }
 ],
 "metadata": {
  "kernelspec": {
   "display_name": "Rust",
   "language": "rust",
   "name": "rust"
  },
  "language_info": {
   "codemirror_mode": "rust",
   "file_extension": ".rs",
   "mimetype": "text/rust",
   "name": "Rust",
   "pygment_lexer": "rust",
   "version": ""
  }
 },
 "nbformat": 4,
 "nbformat_minor": 5
}
